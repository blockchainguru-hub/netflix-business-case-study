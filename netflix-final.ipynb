{
 "cells": [
  {
   "cell_type": "code",
   "execution_count": null,
   "metadata": {},
   "outputs": [],
   "source": [
    "# Problem Statement\n",
    "\n",
    "# The goal is to analyze the Netflix dataset to provide data-backed insights that can help \n",
    "# Netflix decide which type of shows/movies to produce and how to grow their business in \n",
    "# different countries."
   ]
  },
  {
   "cell_type": "code",
   "execution_count": 3,
   "metadata": {},
   "outputs": [],
   "source": [
    "# Import necessary libraries\n",
    "\n",
    "import sys\n",
    "import numpy as np\n",
    "import pandas as pd \n",
    "import matplotlib as mt\n",
    "import matplotlib.pyplot as plt\n",
    "import seaborn as sns"
   ]
  },
  {
   "cell_type": "code",
   "execution_count": 4,
   "metadata": {},
   "outputs": [
    {
     "name": "stdout",
     "output_type": "stream",
     "text": [
      "System/Python Information 3.9.6 (default, Feb  3 2024, 15:58:27) \n",
      "[Clang 15.0.0 (clang-1500.3.9.4)]\n",
      "Numpy Version 1.26.4\n",
      "Pandas Version 2.2.2\n",
      "Matplotlib Version 3.8.4\n",
      "Seabon Version 0.13.2\n"
     ]
    }
   ],
   "source": [
    "# Show system and libraries informations\n",
    "\n",
    "print(\"System/Python Information\", sys.version)\n",
    "print(\"Numpy Version\", np.__version__)\n",
    "print(\"Pandas Version\", pd.__version__) \n",
    "print(\"Matplotlib Version\",  mt.__version__)\n",
    "print(\"Seabon Version\", sns.__version__)"
   ]
  },
  {
   "cell_type": "code",
   "execution_count": 5,
   "metadata": {},
   "outputs": [],
   "source": [
    "# Load the dataset \n",
    "\n",
    "dataset_path = 'netflix.csv'\n",
    "netflix_data = pd.read_csv(dataset_path)"
   ]
  },
  {
   "cell_type": "code",
   "execution_count": 6,
   "metadata": {},
   "outputs": [
    {
     "data": {
      "text/html": [
       "<div>\n",
       "<style scoped>\n",
       "    .dataframe tbody tr th:only-of-type {\n",
       "        vertical-align: middle;\n",
       "    }\n",
       "\n",
       "    .dataframe tbody tr th {\n",
       "        vertical-align: top;\n",
       "    }\n",
       "\n",
       "    .dataframe thead th {\n",
       "        text-align: right;\n",
       "    }\n",
       "</style>\n",
       "<table border=\"1\" class=\"dataframe\">\n",
       "  <thead>\n",
       "    <tr style=\"text-align: right;\">\n",
       "      <th></th>\n",
       "      <th>show_id</th>\n",
       "      <th>type</th>\n",
       "      <th>title</th>\n",
       "      <th>director</th>\n",
       "      <th>cast</th>\n",
       "      <th>country</th>\n",
       "      <th>date_added</th>\n",
       "      <th>release_year</th>\n",
       "      <th>rating</th>\n",
       "      <th>duration</th>\n",
       "      <th>listed_in</th>\n",
       "      <th>description</th>\n",
       "    </tr>\n",
       "  </thead>\n",
       "  <tbody>\n",
       "    <tr>\n",
       "      <th>0</th>\n",
       "      <td>s1</td>\n",
       "      <td>Movie</td>\n",
       "      <td>Dick Johnson Is Dead</td>\n",
       "      <td>Kirsten Johnson</td>\n",
       "      <td>NaN</td>\n",
       "      <td>United States</td>\n",
       "      <td>September 25, 2021</td>\n",
       "      <td>2020</td>\n",
       "      <td>PG-13</td>\n",
       "      <td>90 min</td>\n",
       "      <td>Documentaries</td>\n",
       "      <td>As her father nears the end of his life, filmm...</td>\n",
       "    </tr>\n",
       "    <tr>\n",
       "      <th>1</th>\n",
       "      <td>s2</td>\n",
       "      <td>TV Show</td>\n",
       "      <td>Blood &amp; Water</td>\n",
       "      <td>NaN</td>\n",
       "      <td>Ama Qamata, Khosi Ngema, Gail Mabalane, Thaban...</td>\n",
       "      <td>South Africa</td>\n",
       "      <td>September 24, 2021</td>\n",
       "      <td>2021</td>\n",
       "      <td>TV-MA</td>\n",
       "      <td>2 Seasons</td>\n",
       "      <td>International TV Shows, TV Dramas, TV Mysteries</td>\n",
       "      <td>After crossing paths at a party, a Cape Town t...</td>\n",
       "    </tr>\n",
       "    <tr>\n",
       "      <th>2</th>\n",
       "      <td>s3</td>\n",
       "      <td>TV Show</td>\n",
       "      <td>Ganglands</td>\n",
       "      <td>Julien Leclercq</td>\n",
       "      <td>Sami Bouajila, Tracy Gotoas, Samuel Jouy, Nabi...</td>\n",
       "      <td>NaN</td>\n",
       "      <td>September 24, 2021</td>\n",
       "      <td>2021</td>\n",
       "      <td>TV-MA</td>\n",
       "      <td>1 Season</td>\n",
       "      <td>Crime TV Shows, International TV Shows, TV Act...</td>\n",
       "      <td>To protect his family from a powerful drug lor...</td>\n",
       "    </tr>\n",
       "    <tr>\n",
       "      <th>3</th>\n",
       "      <td>s4</td>\n",
       "      <td>TV Show</td>\n",
       "      <td>Jailbirds New Orleans</td>\n",
       "      <td>NaN</td>\n",
       "      <td>NaN</td>\n",
       "      <td>NaN</td>\n",
       "      <td>September 24, 2021</td>\n",
       "      <td>2021</td>\n",
       "      <td>TV-MA</td>\n",
       "      <td>1 Season</td>\n",
       "      <td>Docuseries, Reality TV</td>\n",
       "      <td>Feuds, flirtations and toilet talk go down amo...</td>\n",
       "    </tr>\n",
       "    <tr>\n",
       "      <th>4</th>\n",
       "      <td>s5</td>\n",
       "      <td>TV Show</td>\n",
       "      <td>Kota Factory</td>\n",
       "      <td>NaN</td>\n",
       "      <td>Mayur More, Jitendra Kumar, Ranjan Raj, Alam K...</td>\n",
       "      <td>India</td>\n",
       "      <td>September 24, 2021</td>\n",
       "      <td>2021</td>\n",
       "      <td>TV-MA</td>\n",
       "      <td>2 Seasons</td>\n",
       "      <td>International TV Shows, Romantic TV Shows, TV ...</td>\n",
       "      <td>In a city of coaching centers known to train I...</td>\n",
       "    </tr>\n",
       "  </tbody>\n",
       "</table>\n",
       "</div>"
      ],
      "text/plain": [
       "  show_id     type                  title         director  \\\n",
       "0      s1    Movie   Dick Johnson Is Dead  Kirsten Johnson   \n",
       "1      s2  TV Show          Blood & Water              NaN   \n",
       "2      s3  TV Show              Ganglands  Julien Leclercq   \n",
       "3      s4  TV Show  Jailbirds New Orleans              NaN   \n",
       "4      s5  TV Show           Kota Factory              NaN   \n",
       "\n",
       "                                                cast        country  \\\n",
       "0                                                NaN  United States   \n",
       "1  Ama Qamata, Khosi Ngema, Gail Mabalane, Thaban...   South Africa   \n",
       "2  Sami Bouajila, Tracy Gotoas, Samuel Jouy, Nabi...            NaN   \n",
       "3                                                NaN            NaN   \n",
       "4  Mayur More, Jitendra Kumar, Ranjan Raj, Alam K...          India   \n",
       "\n",
       "           date_added  release_year rating   duration  \\\n",
       "0  September 25, 2021          2020  PG-13     90 min   \n",
       "1  September 24, 2021          2021  TV-MA  2 Seasons   \n",
       "2  September 24, 2021          2021  TV-MA   1 Season   \n",
       "3  September 24, 2021          2021  TV-MA   1 Season   \n",
       "4  September 24, 2021          2021  TV-MA  2 Seasons   \n",
       "\n",
       "                                           listed_in  \\\n",
       "0                                      Documentaries   \n",
       "1    International TV Shows, TV Dramas, TV Mysteries   \n",
       "2  Crime TV Shows, International TV Shows, TV Act...   \n",
       "3                             Docuseries, Reality TV   \n",
       "4  International TV Shows, Romantic TV Shows, TV ...   \n",
       "\n",
       "                                         description  \n",
       "0  As her father nears the end of his life, filmm...  \n",
       "1  After crossing paths at a party, a Cape Town t...  \n",
       "2  To protect his family from a powerful drug lor...  \n",
       "3  Feuds, flirtations and toilet talk go down amo...  \n",
       "4  In a city of coaching centers known to train I...  "
      ]
     },
     "execution_count": 6,
     "metadata": {},
     "output_type": "execute_result"
    }
   ],
   "source": [
    "# Display first few rows of the dataset\n",
    "netflix_data.head(5)"
   ]
  },
  {
   "cell_type": "code",
   "execution_count": null,
   "metadata": {},
   "outputs": [],
   "source": [
    "# Basic Matrics"
   ]
  },
  {
   "cell_type": "code",
   "execution_count": 9,
   "metadata": {},
   "outputs": [
    {
     "name": "stdout",
     "output_type": "stream",
     "text": [
      "## Result\n"
     ]
    },
    {
     "data": {
      "text/plain": [
       "((8807, 12),\n",
       " show_id         object\n",
       " type            object\n",
       " title           object\n",
       " director        object\n",
       " cast            object\n",
       " country         object\n",
       " date_added      object\n",
       " release_year     int64\n",
       " rating          object\n",
       " duration        object\n",
       " listed_in       object\n",
       " description     object\n",
       " dtype: object)"
      ]
     },
     "execution_count": 9,
     "metadata": {},
     "output_type": "execute_result"
    }
   ],
   "source": [
    "# Checking the shape of the dataset\n",
    "dataset_shape = netflix_data.shape\n",
    "\n",
    "# Checking data type of the attributes\n",
    "dataset_dtypes = netflix_data.dtypes\n",
    "\n",
    "## Result\n",
    "print('## Result')\n",
    "dataset_shape, dataset_dtypes"
   ]
  },
  {
   "cell_type": "code",
   "execution_count": 11,
   "metadata": {},
   "outputs": [
    {
     "name": "stdout",
     "output_type": "stream",
     "text": [
      "## Result\n"
     ]
    },
    {
     "data": {
      "text/plain": [
       "(       release_year\n",
       " count   8807.000000\n",
       " mean    2014.180198\n",
       " std        8.819312\n",
       " min     1925.000000\n",
       " 25%     2013.000000\n",
       " 50%     2017.000000\n",
       " 75%     2019.000000\n",
       " max     2021.000000,\n",
       "          type        country rating\n",
       " count    8807           7976   8803\n",
       " unique      2            748     17\n",
       " top     Movie  United States  TV-MA\n",
       " freq     6131           2818   3207)"
      ]
     },
     "execution_count": 11,
     "metadata": {},
     "output_type": "execute_result"
    }
   ],
   "source": [
    "# Displaying basic metrics using the describe() method for numerical columns\n",
    "basic_metrics_numerical = netflix_data.describe()\n",
    "\n",
    "# Displaying basic metrics for categorical columns like 'Type', 'Country' and 'Rating'\n",
    "basic_metrics_categorical = netflix_data[['type', 'country', 'rating']].describe(include = ['object'])\n",
    "\n",
    "## Result\n",
    "print('## Result')\n",
    "basic_metrics_numerical, basic_metrics_categorical"
   ]
  },
  {
   "cell_type": "markdown",
   "metadata": {},
   "source": [
    "# Numerical Attributes\n",
    "    For the numerical attribute release_year:\n",
    "\n",
    "        Count: 8,807 entries\n",
    "        Mean: Around the year 2014\n",
    "        Standard Deviation: Approximately 8.82 years\n",
    "        Minimum: Year 1925\n",
    "        25th Percentile (Q1): Year 2013\n",
    "        Median (50th Percentile): Year 2017\n",
    "        75th Percentile (Q3): Year 2019\n",
    "        Maximum: Year 2021\n",
    "\n",
    "# Categorical Attributes\n",
    "    For the categorical attributes type, country, and rating:\n",
    "\n",
    "        Type\n",
    "\n",
    "            Count: 8,807\n",
    "            Unique Values: 2 (Movie, TV Show)\n",
    "            Most Frequent: Movie\n",
    "            Frequency: 6,131\n",
    "        \n",
    "        Country\n",
    "\n",
    "            Count: 7,976 (some missing values)\n",
    "            Unique Values: 748\n",
    "            Most Frequent: United States\n",
    "            Frequency: 2,818\n",
    "        \n",
    "        Rating\n",
    "\n",
    "            Count: 8,803 (some missing values)\n",
    "            Unique Values: 17\n",
    "            Most Frequent: TV-MA\n",
    "            Frequency: 3,207\n",
    "            \n",
    "# Observations\n",
    "    1. The average release_year being around 2014, along with a median of 2017, suggests that Netflix has a lot of content from the recent decade.\n",
    "    2. The high frequency of Movies compared to TV Shows indicates a stronger focus on movie content.\n",
    "    3. The United States appears to be the most common country for content production, followed by a wide range of other countries, indicating a diverse content catalog.\n",
    "    4. The rating “TV-MA” is the most frequent, suggesting a focus on mature audiences.    "
   ]
  },
  {
   "cell_type": "markdown",
   "metadata": {},
   "source": []
  },
  {
   "cell_type": "code",
   "execution_count": 12,
   "metadata": {},
   "outputs": [
    {
     "data": {
      "text/plain": [
       "(show_id           object\n",
       " type            category\n",
       " title             object\n",
       " director          object\n",
       " cast              object\n",
       " country         category\n",
       " date_added        object\n",
       " release_year       int64\n",
       " rating          category\n",
       " duration          object\n",
       " listed_in         object\n",
       " description       object\n",
       " dtype: object,\n",
       " show_id            0\n",
       " type               0\n",
       " title              0\n",
       " director        2634\n",
       " cast             825\n",
       " country          831\n",
       " date_added        10\n",
       " release_year       0\n",
       " rating             4\n",
       " duration           3\n",
       " listed_in          0\n",
       " description        0\n",
       " dtype: int64)"
      ]
     },
     "execution_count": 12,
     "metadata": {},
     "output_type": "execute_result"
    }
   ],
   "source": [
    "# Convert categorical attributes to 'category' data type if required\n",
    "categorical_columns = ['type', 'country', 'rating']\n",
    "\n",
    "netflix_data[categorical_columns] = netflix_data[categorical_columns].astype('category')\n",
    "\n",
    "# After conversion data types\n",
    "after_conversion_data_types = netflix_data.dtypes\n",
    "\n",
    "# Missing value detection\n",
    "missing_values = netflix_data.isnull().sum()\n",
    "\n",
    "\n",
    "\n",
    "## Result\n",
    "after_conversion_data_types, missing_values"
   ]
  },
  {
   "cell_type": "markdown",
   "metadata": {},
   "source": [
    "# Data Types of All the Attributes (Before Conversion)\n",
    "    Most of the attributes are of object data type, except release_year, which is an int64.\n",
    "\n",
    "# Conversion of Categorical Attributes to ‘Category’\n",
    "    The data types for type, country, and rating have been converted to category.\n",
    "\n",
    "# Missing Value Detection\n",
    "    director: 2,634 missing values\n",
    "    cast: 825 missing values\n",
    "    country: 831 missing values\n",
    "    date_added: 10 missing values\n",
    "    rating: 4 missing values\n",
    "    duration: 3 missing values"
   ]
  },
  {
   "cell_type": "code",
   "execution_count": 13,
   "metadata": {},
   "outputs": [
    {
     "data": {
      "text/plain": [
       "(type\n",
       " Movie      6131\n",
       " TV Show    2676\n",
       " Name: count, dtype: int64,\n",
       " country\n",
       " United States     2818\n",
       " India              972\n",
       " United Kingdom     419\n",
       " Japan              245\n",
       " South Korea        199\n",
       " Canada             181\n",
       " Spain              145\n",
       " France             124\n",
       " Mexico             110\n",
       " Egypt              106\n",
       " Name: count, dtype: int64,\n",
       " rating\n",
       " TV-MA       3207\n",
       " TV-14       2160\n",
       " TV-PG        863\n",
       " R            799\n",
       " PG-13        490\n",
       " TV-Y7        334\n",
       " TV-Y         307\n",
       " PG           287\n",
       " TV-G         220\n",
       " NR            80\n",
       " G             41\n",
       " TV-Y7-FV       6\n",
       " UR             3\n",
       " NC-17          3\n",
       " 74 min         1\n",
       " 84 min         1\n",
       " 66 min         1\n",
       " Name: count, dtype: int64,\n",
       " release_year\n",
       " 2018    1147\n",
       " 2017    1032\n",
       " 2019    1030\n",
       " 2020     953\n",
       " 2016     902\n",
       " 2021     592\n",
       " 2015     560\n",
       " 2014     352\n",
       " 2013     288\n",
       " 2012     237\n",
       " Name: count, dtype: int64,\n",
       " ['Movie', 'TV Show']\n",
       " Categories (2, object): ['Movie', 'TV Show'],\n",
       " ['United States', 'South Africa', NaN, 'India', 'United States, Ghana, Burkina Faso, United Ki..., ..., 'Russia, Spain', 'Croatia, Slovenia, Serbia, Montenegro', 'Japan, Canada', 'United States, France, South Korea, Indonesia', 'United Arab Emirates, Jordan']\n",
       " Length: 749\n",
       " Categories (748, object): [', France, Algeria', ', South Korea', 'Argentina', 'Argentina, Brazil, France, Poland, Germany, D..., ..., 'Venezuela, Colombia', 'Vietnam', 'West Germany', 'Zimbabwe'],\n",
       " ['PG-13', 'TV-MA', 'PG', 'TV-14', 'TV-PG', ..., '66 min', 'NR', NaN, 'TV-Y7-FV', 'UR']\n",
       " Length: 18\n",
       " Categories (17, object): ['66 min', '74 min', '84 min', 'G', ..., 'TV-Y', 'TV-Y7', 'TV-Y7-FV', 'UR'],\n",
       " array([2020, 2021, 1993, 2018, 1996, 1998, 1997, 2010, 2013, 2017, 1975,\n",
       "        1978, 1983, 1987, 2012, 2001, 2014, 2002, 2003, 2004, 2011, 2008,\n",
       "        2009, 2007, 2005, 2006, 1994, 2015, 2019, 2016, 1982, 1989, 1990,\n",
       "        1991, 1999, 1986, 1992, 1984, 1980, 1961, 2000, 1995, 1985, 1976,\n",
       "        1959, 1988, 1981, 1972, 1964, 1945, 1954, 1979, 1958, 1956, 1963,\n",
       "        1970, 1973, 1925, 1974, 1960, 1966, 1971, 1962, 1969, 1977, 1967,\n",
       "        1968, 1965, 1946, 1942, 1955, 1944, 1947, 1943]))"
      ]
     },
     "execution_count": 13,
     "metadata": {},
     "output_type": "execute_result"
    }
   ],
   "source": [
    "# Non-Graphical Analysis: Value Counts and Unique Attributes\n",
    "\n",
    "# Non-Graphical Analysis: Value counts for key attributes\n",
    "value_counts_type = netflix_data['type'].value_counts()\n",
    "value_counts_country = netflix_data['country'].value_counts().head(10)  # Top 10 countries\n",
    "value_counts_rating = netflix_data['rating'].value_counts()\n",
    "value_counts_release_year = netflix_data['release_year'].value_counts().head(10)  # Top 10 release years\n",
    "\n",
    "# Unique attributes for key columns\n",
    "unique_type = netflix_data['type'].unique()\n",
    "unique_country = netflix_data['country'].unique()\n",
    "unique_rating = netflix_data['rating'].unique()\n",
    "unique_release_year = netflix_data['release_year'].unique()\n",
    "\n",
    "value_counts_type, value_counts_country, value_counts_rating, value_counts_release_year, unique_type, unique_country, unique_rating, unique_release_year"
   ]
  },
  {
   "cell_type": "markdown",
   "metadata": {},
   "source": [
    "# Value Counts\n",
    "\n",
    "# Type of Content (Movies vs. TV Shows)\n",
    "\n",
    "    Movies: 6,131\n",
    "    TV Shows: 2,676\n",
    "\n",
    "# Top 10 Countries Producing Content\n",
    "\n",
    "    United States: 2,818\n",
    "    India: 972\n",
    "    United Kingdom: 419\n",
    "    Japan: 245\n",
    "    South Korea: 199\n",
    "    Canada: 181\n",
    "    Spain: 145\n",
    "    France: 124\n",
    "    Mexico: 110\n",
    "    Egypt: 106\n",
    "\n",
    "# Ratings\n",
    "\n",
    "    TV-MA: 3,207\n",
    "    TV-14: 2,160\n",
    "    TV-PG: 863\n",
    "    R: 799\n",
    "    PG-13: 490\n",
    "    …\n",
    "\n",
    "# Top 10 Release Years\n",
    "\n",
    "    2018: 1,147\n",
    "    2017: 1,032\n",
    "    2019: 1,030\n",
    "    2020: 953\n",
    "    2016: 902\n",
    "    …\n",
    "\n",
    "# Unique Attributes\n",
    "    Type: 2 unique values (‘Movie’, ‘TV Show’)\n",
    "    Country: 748 unique values\n",
    "    Rating: 17 unique values\n",
    "    Release Year: Ranges from 1925 to 2021\n",
    "\n",
    "# Observations\n",
    "    1. The platform predominantly offers movies, almost twice as many as TV Shows.\n",
    "    2. The United States is the leading country in producing content, followed by India and the United Kingdom.\n",
    "    3. The most common ratings are ‘TV-MA’ and ‘TV-14’, indicating a focus on mature and teen audiences.\n",
    "    4. Most of the content was released in the years 2018, 2017, and 2019, showing a strong focus on recent content."
   ]
  },
  {
   "cell_type": "code",
   "execution_count": null,
   "metadata": {},
   "outputs": [],
   "source": [
    "# 5 - Missing Value & Outlier Check\n",
    "# Before we proceed further with additional visualizations, It's crucial to check\n",
    "# for missiong values and outliers\n"
   ]
  },
  {
   "cell_type": "code",
   "execution_count": 14,
   "metadata": {},
   "outputs": [
    {
     "data": {
      "text/plain": [
       "show_id            0\n",
       "type               0\n",
       "title              0\n",
       "director        2634\n",
       "cast             825\n",
       "country          831\n",
       "date_added        10\n",
       "release_year       0\n",
       "rating             4\n",
       "duration           3\n",
       "listed_in          0\n",
       "description        0\n",
       "dtype: int64"
      ]
     },
     "execution_count": 14,
     "metadata": {},
     "output_type": "execute_result"
    }
   ],
   "source": [
    "# Mission Values\n",
    "\n",
    "# Checking for missing values\n",
    "missing_values = netflix_data.isnull().sum()\n",
    "missing_values"
   ]
  },
  {
   "cell_type": "markdown",
   "metadata": {},
   "source": [
    "# Observations:\n",
    "\n",
    "    We have missing values in several columns:\n",
    "\n",
    "        director: 2,634 missing values\n",
    "        cast: 825 missing values\n",
    "        country: 831 missing values\n",
    "        date_added: 10 missing values\n",
    "        rating: 4 missing values\n",
    "        duration: 3 missing values\n"
   ]
  },
  {
   "cell_type": "code",
   "execution_count": 15,
   "metadata": {},
   "outputs": [
    {
     "data": {
      "image/png": "[encoded data removed]",
      "text/plain": [
       "<Figure size 1000x400 with 1 Axes>"
      ]
     },
     "metadata": {},
     "output_type": "display_data"
    }
   ],
   "source": [
    "# Boxplot to check for outliers in 'release_year'\n",
    "plt.figure(figsize=(10, 4))\n",
    "sns.boxplot(x=netflix_data['release_year'])\n",
    "plt.title('Boxplot for Release Year to Check for Outliers')\n",
    "plt.show()"
   ]
  },
  {
   "cell_type": "code",
   "execution_count": null,
   "metadata": {},
   "outputs": [],
   "source": [
    "# Uni"
   ]
  }
 ],
 "metadata": {
  "kernelspec": {
   "display_name": "Python 3",
   "language": "python",
   "name": "python3"
  },
  "language_info": {
   "codemirror_mode": {
    "name": "ipython",
    "version": 3
   },
   "file_extension": ".py",
   "mimetype": "text/x-python",
   "name": "python",
   "nbconvert_exporter": "python",
   "pygments_lexer": "ipython3",
   "version": "3.9.6"
  }
 },
 "nbformat": 4,
 "nbformat_minor": 2
}
